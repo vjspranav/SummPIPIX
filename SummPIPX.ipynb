{
 "cells": [
  {
   "cell_type": "code",
   "execution_count": 1,
   "id": "7320b731-8734-4fa3-9a3d-f3c0b0ff3e30",
   "metadata": {
    "tags": []
   },
   "outputs": [],
   "source": [
    "#!pip install PyPDF2"
   ]
  },
  {
   "cell_type": "code",
   "execution_count": 2,
   "id": "dd3e0ed9-ab75-4f0b-a56d-4fd13d206830",
   "metadata": {
    "tags": []
   },
   "outputs": [],
   "source": [
    "#!pip install spacy\n",
    "#!python -m spacy download en_core_web_md"
   ]
  },
  {
   "cell_type": "markdown",
   "id": "86013c39-32d3-4c44-8c01-b7ba75f41657",
   "metadata": {},
   "source": [
    "## load_documents:\n",
    "- Input:\n",
    "    - input_data: list of strings (documents) or list of file paths (strings)\n",
    "    - input_type: string ('documents' or 'file_paths')\n",
    "- Output: \n",
    "    - list of strings (documents)\n",
    "\n",
    "## build_sentence_graph:\n",
    "- Input: \n",
    "    - list of strings (documents)\n",
    "- Output: \n",
    "    - 2D list (adjacency list representing the sentence graph)\n",
    "\n",
    "## spectral_clustering:\n",
    "- Input: \n",
    "    - 2D list (adjacency list representing the sentence graph)\n",
    "- Output: \n",
    "    - list of lists, where each inner list contains spaCy sentence objects (each cluster)\n",
    "\n",
    "## fit:\n",
    "- Input: \n",
    "    - list of strings (documents)  \n",
    "    \n",
    "> No output (updates the self.clusters attribute)\n",
    "\n",
    "## compress_clusters:\n",
    "- Input: \n",
    "    - list of lists, where each inner list contains spaCy sentence objects (clusters)\n",
    "- Output: \n",
    "    - string (final summary)\n",
    "\n",
    "## transform:\n",
    "- Output: \n",
    "    - string (final summary)  \n",
    "    \n",
    "> No input (uses the self.clusters attribute)\n",
    "\n",
    "## fit_transform:\n",
    "- Input: \n",
    "    - list of strings (documents)\n",
    "    - Output: string (final summary)"
   ]
  },
  {
   "cell_type": "code",
   "execution_count": 16,
   "id": "fac6f46e-744f-42d3-9eef-7d05da727168",
   "metadata": {
    "tags": []
   },
   "outputs": [],
   "source": [
    "import PyPDF2\n",
    "\n",
    "class SummPIPX:\n",
    "    def __init__(self):\n",
    "        self.version = 'v1'\n",
    "\n",
    "    def __pdf_to_text__(self, path):\n",
    "        pdfreader = PyPDF2.PdfReader(path)\n",
    "        text=''\n",
    "        for page in pdfreader.pages:\n",
    "            text+=page.extract_text()\n",
    "        return text\n",
    "    \n",
    "    def load_documents(self, input_data, input_type='documents'):\n",
    "        # Check the input type\n",
    "        if input_type == 'documents':\n",
    "            # If input_type is 'documents', assume input_data represents the documents\n",
    "            documents = input_data\n",
    "        elif input_type == 'file_paths':\n",
    "            # If input_type is 'file_paths', assume input_data represents file paths\n",
    "            documents = [self.__pdf_to_text__(file) for file in files]\n",
    "        else:\n",
    "            raise ValueError(f\"Invalid input_type: {input_type}\")\n",
    "        return documents\n",
    "\n",
    "    def build_sentence_graph(self, documents):\n",
    "        # Convert the original documents to a sentence graph\n",
    "        # Return the sentence graph\n",
    "        pass\n",
    "\n",
    "    def spectral_clustering(self, sentence_graph):\n",
    "        # Apply spectral clustering to obtain multiple clusters of sentences\n",
    "        # Return the clusters\n",
    "        pass \n",
    "\n",
    "    def fit(self, documents):\n",
    "        # Build the sentence graph\n",
    "        sentence_graph = self.build_sentence_graph(documents)\n",
    "        # Perform spectral clustering\n",
    "        self.clusters = self.spectral_clustering(sentence_graph)\n",
    "\n",
    "    def compress_clusters(self, clusters):\n",
    "        # Compress each cluster to generate the final summary\n",
    "        # Return the summary\n",
    "        pass\n",
    "\n",
    "    def transform(self):\n",
    "        # Compress the clusters to generate the final summary\n",
    "        summary = self.compress_clusters(self.clusters)\n",
    "        return summary\n",
    "\n",
    "    def fit_transform(self, documents):\n",
    "        # Fit and transform in one step\n",
    "        self.fit(documents)\n",
    "        return self.transform()"
   ]
  },
  {
   "cell_type": "markdown",
   "id": "674cc3ee-facd-4b66-b1e9-e8b606c17177",
   "metadata": {},
   "source": [
    "## Testing"
   ]
  },
  {
   "cell_type": "code",
   "execution_count": 17,
   "id": "7e2d15ea-5a01-4ee3-aed2-f17ca6dcc1f1",
   "metadata": {
    "tags": []
   },
   "outputs": [],
   "source": [
    "files = [\n",
    "    'dataset/NeuralNetworks/1460210.pdf', \n",
    "    'dataset/NeuralNetworks/Oken.pdf',\n",
    "    'dataset/NeuralNetworks/week7b-neuralnetwork.pdf'\n",
    "]\n",
    "\n",
    "summpip = SummPIPX()\n",
    "documents = summpip.load_documents(files, input_type='file_paths')\n",
    "summary = summpip.fit_transform(documents)"
   ]
  },
  {
   "cell_type": "code",
   "execution_count": null,
   "id": "6be04211-5084-4800-ab25-eb74d778fc93",
   "metadata": {},
   "outputs": [],
   "source": []
  }
 ],
 "metadata": {
  "kernelspec": {
   "display_name": "SummPIP-Kernel",
   "language": "python",
   "name": "summpip-kernel"
  },
  "language_info": {
   "codemirror_mode": {
    "name": "ipython",
    "version": 3
   },
   "file_extension": ".py",
   "mimetype": "text/x-python",
   "name": "python",
   "nbconvert_exporter": "python",
   "pygments_lexer": "ipython3",
   "version": "3.10.6"
  }
 },
 "nbformat": 4,
 "nbformat_minor": 5
}
